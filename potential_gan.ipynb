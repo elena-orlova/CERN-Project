{
 "cells": [
  {
   "cell_type": "code",
   "execution_count": 115,
   "metadata": {
    "collapsed": false
   },
   "outputs": [
    {
     "name": "stdout",
     "output_type": "stream",
     "text": [
      "Epoch 0   [Train |████████████████████|   10/10   batches, 1.27 cost, 161.26s]\n",
      "Epoch 1   [Train |████████████████████|   10/10   batches, 1.52 cost, 177.54s]\n",
      "Epoch 2   [Train |████████████████████|   10/10   batches, 1.25 cost, 176.85s]\n"
     ]
    }
   ],
   "source": [
    "import os\n",
    "from datetime import datetime\n",
    "from neon.callbacks.callbacks import Callbacks, GANCostCallback\n",
    "from neon.callbacks.plotting_callbacks import GANPlotCallback\n",
    "from neon.initializers import Gaussian\n",
    "from neon.layers import GeneralizedGANCost, Affine, Sequential, Conv, Deconv, Dropout, Pooling, BatchNorm\n",
    "from neon.layers.layer import Linear, Reshape\n",
    "from neon.layers.container import GenerativeAdversarial\n",
    "from neon.models.model import GAN, Model\n",
    "from neon.transforms import Rectlin, Logistic, GANCost, Tanh\n",
    "from neon.util.argparser import NeonArgparser\n",
    "from neon.util.persist import ensure_dirs_exist\n",
    "from neon.layers.layer import Dropout\n",
    "from neon.data.dataiterator import ArrayIterator\n",
    "from neon.optimizers import GradientDescentMomentum, RMSProp\n",
    "from gen_data_norm import gen_rhs\n",
    "from neon.backends import gen_backend\n",
    "\n",
    "import numpy as np\n",
    "\n",
    "# load up the data set\n",
    "train_data, data_y = gen_rhs(100)\n",
    "eval_data, eval_y = gen_rhs(10)\n",
    "\n",
    "train_data /= 30.0\n",
    "\n",
    "gen_backend(backend='cpu', batch_size=10)\n",
    "train_set = ArrayIterator(X=train_data, y=data_y, nclass=2, lshape=(1, 25, 25, 25))\n",
    "valid_set = ArrayIterator(X=eval_data, y=eval_y, nclass=2)\n",
    "\n",
    "# setup weight initialization function\n",
    "init = Gaussian(scale=0.0001)\n",
    "\n",
    "# discriminiator using convolution layers\n",
    "lrelu = Rectlin(slope=0.1)  # leaky relu for discriminator\n",
    "# sigmoid = Logistic() # sigmoid activation function\n",
    "conv1 = dict(init=init, batch_norm=False, activation=lrelu) # what's about BatchNorm Layer and batch_norm parameter?\n",
    "conv2 = dict(init=init, batch_norm=True, activation=lrelu, padding=2)\n",
    "conv3 = dict(init=init, batch_norm=True, activation=lrelu, padding=1)\n",
    "D_layers = [Conv((5, 5, 5, 32), **conv1),\n",
    "            Dropout(keep = 0.8),\n",
    "            Conv((5, 5, 5, 8), **conv2),\n",
    "            BatchNorm(),\n",
    "            Dropout(keep = 0.8),\n",
    "            Conv((5, 5, 5, 8), **conv2),\n",
    "            BatchNorm(),\n",
    "            Dropout(keep = 0.8),\n",
    "            Conv((5, 5, 5, 8), **conv3),\n",
    "            BatchNorm(),\n",
    "            Dropout(keep = 0.8),\n",
    "            Pooling((2, 2, 2)),\n",
    "            Affine(1, init=init, activation=Logistic())] #what's about the activation function?\n",
    "\n",
    "# generator using convolution layers\n",
    "latent_size = 200\n",
    "relu = Rectlin(slope=0)  # relu for generator\n",
    "pad1 = dict(pad_h=2, pad_w=2, pad_d=2)\n",
    "str1 = dict(str_h=2, str_w=2, str_d=2)\n",
    "conv1 = dict(init=init, batch_norm=True, activation=lrelu, padding=pad1, strides=str1)\n",
    "pad2 = dict(pad_h=2, pad_w=2, pad_d=2)\n",
    "str2 = dict(str_h=2, str_w=2, str_d=2)\n",
    "conv2 = dict(init=init, batch_norm=True, activation=lrelu, padding=pad2, strides=str2)\n",
    "pad3 = dict(pad_h=0, pad_w=0, pad_d=0)\n",
    "str3 = dict(str_h=1, str_w=1, str_d=1)\n",
    "conv3 = dict(init=init, batch_norm=True, activation=Logistic(), padding=pad3, strides=str3)\n",
    "G_layers = [\n",
    "            Affine(8 * 7 * 7 * 7, init=init),\n",
    "            Reshape((8, 7, 7, 7)),\n",
    "            Deconv((6, 6, 6, 6), **conv1), #14x14x14\n",
    "            Deconv((5, 5, 5, 64), **conv2), #27x27x27\n",
    "            Conv((3, 3, 3, 1), **conv3)\n",
    "           ]\n",
    "            # what's about the Embedding layer\n",
    "\n",
    "#G_layers = [Affine(128, init=init, activation=lrelu),\n",
    "#            Affine(128, init=init, activation=lrelu),\n",
    "#            Affine(25 * 25 * 25, init=init, activation=Tanh()),\n",
    "#            Reshape((1, 25, 25, 25))\n",
    "#            ]\n",
    "\n",
    "#G_layers = [Affine(25*25*25, init=init, activation=Logistic()), Reshape((1, 25, 25, 25))]\n",
    "layers = GenerativeAdversarial(generator=Sequential(G_layers, name=\"Generator\"),\n",
    "                               discriminator=Sequential(D_layers, name=\"Discriminator\"))\n",
    "\n",
    "# setup optimizer\n",
    "optimizer = RMSProp(learning_rate=1e-3, decay_rate=0.99, epsilon=1e-8)\n",
    "\n",
    "# setup cost function as Binary CrossEntropy\n",
    "cost = GeneralizedGANCost(costfunc=GANCost(func=\"modified\"))\n",
    "\n",
    "nb_epochs = 3\n",
    "batch_size = 100\n",
    "latent_size = 200\n",
    "nb_classes = 2\n",
    "nb_test = 100\n",
    "\n",
    "# initialize model\n",
    "noise_dim = (100)\n",
    "gan = GAN(layers=layers, noise_dim=noise_dim)\n",
    "\n",
    "# configure callbacks\n",
    "callbacks = Callbacks(gan, eval_set=valid_set)\n",
    "callbacks.add_callback(GANCostCallback())\n",
    "callbacks.add_save_best_state_callback(\"./best_state.pkl\")\n",
    "\n",
    "# run fit\n",
    "gan.fit(train_set, num_epochs=nb_epochs, optimizer=optimizer,\n",
    "        cost=cost, callbacks=callbacks)"
   ]
  },
  {
   "cell_type": "code",
   "execution_count": 118,
   "metadata": {
    "collapsed": true
   },
   "outputs": [],
   "source": [
    "x_new = np.random.rand(10,100)\n",
    "inference_set = ArrayIterator(x_new, None, nclass=2, lshape=(100))"
   ]
  },
  {
   "cell_type": "code",
   "execution_count": 119,
   "metadata": {
    "collapsed": true
   },
   "outputs": [],
   "source": [
    "generator = Model(gan.layers.generator)"
   ]
  },
  {
   "cell_type": "code",
   "execution_count": 120,
   "metadata": {
    "collapsed": true
   },
   "outputs": [],
   "source": [
    "test = generator.get_outputs(inference_set)"
   ]
  },
  {
   "cell_type": "code",
   "execution_count": 121,
   "metadata": {
    "collapsed": true
   },
   "outputs": [],
   "source": [
    "imgs = test.reshape((10, 25, 25, 25))"
   ]
  },
  {
   "cell_type": "code",
   "execution_count": 122,
   "metadata": {
    "collapsed": true
   },
   "outputs": [],
   "source": [
    "import matplotlib.pyplot as plt\n",
    "%matplotlib inline"
   ]
  },
  {
   "cell_type": "code",
   "execution_count": 123,
   "metadata": {
    "collapsed": false
   },
   "outputs": [
    {
     "data": {
      "text/plain": [
       "<matplotlib.image.AxesImage at 0x16df14e50>"
      ]
     },
     "execution_count": 123,
     "metadata": {},
     "output_type": "execute_result"
    },
    {
     "data": {
      "image/png": "[encoded data removed]",
      "text/plain": [
       "<matplotlib.figure.Figure at 0x131de8dd0>"
      ]
     },
     "metadata": {},
     "output_type": "display_data"
    }
   ],
   "source": [
    "plt.imshow(imgs[0, :, 12, :])"
   ]
  },
  {
   "cell_type": "code",
   "execution_count": 126,
   "metadata": {
    "collapsed": false
   },
   "outputs": [
    {
     "data": {
      "text/plain": [
       "<matplotlib.image.AxesImage at 0x1b15d7d50>"
      ]
     },
     "execution_count": 126,
     "metadata": {},
     "output_type": "execute_result"
    },
    {
     "data": {
      "image/png": "[encoded data removed]",
      "text/plain": [
       "<matplotlib.figure.Figure at 0x16d698490>"
      ]
     },
     "metadata": {},
     "output_type": "display_data"
    }
   ],
   "source": [
    "plt.imshow(imgs[1, :, 12, :])"
   ]
  },
  {
   "cell_type": "code",
   "execution_count": 129,
   "metadata": {
    "collapsed": false
   },
   "outputs": [
    {
     "data": {
      "text/plain": [
       "<matplotlib.image.AxesImage at 0x1b17b4550>"
      ]
     },
     "execution_count": 129,
     "metadata": {},
     "output_type": "execute_result"
    },
    {
     "data": {
      "image/png": "[encoded data removed]",
      "text/plain": [
       "<matplotlib.figure.Figure at 0x1b1610610>"
      ]
     },
     "metadata": {},
     "output_type": "display_data"
    }
   ],
   "source": [
    "plt.imshow(imgs[9, :, 12, :])"
   ]
  },
  {
   "cell_type": "code",
   "execution_count": null,
   "metadata": {
    "collapsed": true
   },
   "outputs": [],
   "source": []
  }
 ],
 "metadata": {
  "anaconda-cloud": {},
  "kernelspec": {
   "display_name": "Python [conda env:neon]",
   "language": "python",
   "name": "conda-env-neon-py"
  },
  "language_info": {
   "codemirror_mode": {
    "name": "ipython",
    "version": 3
   },
   "file_extension": ".py",
   "mimetype": "text/x-python",
   "name": "python",
   "nbconvert_exporter": "python",
   "pygments_lexer": "ipython3",
   "version": "3.6.1"
  }
 },
 "nbformat": 4,
 "nbformat_minor": 2
}

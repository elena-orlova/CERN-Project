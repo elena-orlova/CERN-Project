{
 "cells": [
  {
   "cell_type": "code",
   "execution_count": 18,
   "metadata": {
    "collapsed": true
   },
   "outputs": [],
   "source": [
    "import numpy as np\n",
    "import matplotlib.pyplot as plt\n",
    "%matplotlib inline"
   ]
  },
  {
   "cell_type": "code",
   "execution_count": 2,
   "metadata": {
    "collapsed": true
   },
   "outputs": [],
   "source": [
    "dat = np.load(\"tiny_data.npz\")"
   ]
  },
  {
   "cell_type": "code",
   "execution_count": 69,
   "metadata": {},
   "outputs": [],
   "source": [
    "arr = dat.items()[0][1][:100, :]"
   ]
  },
  {
   "cell_type": "code",
   "execution_count": 137,
   "metadata": {},
   "outputs": [
    {
     "data": {
      "text/plain": [
       "<matplotlib.image.AxesImage at 0x19e1cc910>"
      ]
     },
     "execution_count": 137,
     "metadata": {},
     "output_type": "execute_result"
    },
    {
     "data": {
      "image/png": "[encoded data removed]",
      "text/plain": [
       "<matplotlib.figure.Figure at 0x19e114210>"
      ]
     },
     "metadata": {},
     "output_type": "display_data"
    }
   ],
   "source": [
    "plt.imshow(arr[2].reshape((25, 25, 25))[:, 12, :])"
   ]
  },
  {
   "cell_type": "code",
   "execution_count": 71,
   "metadata": {},
   "outputs": [],
   "source": [
    "import os\n",
    "from datetime import datetime\n",
    "from neon.callbacks.callbacks import Callbacks, GANCostCallback\n",
    "#from neon.callbacks.plotting_callbacks import GANPlotCallback\n",
    "from neon.initializers import Gaussian\n",
    "from neon.layers import GeneralizedGANCost, Affine, Sequential, Conv, Deconv, Dropout, Pooling, BatchNorm\n",
    "from neon.layers.layer import Linear, Reshape\n",
    "from neon.layers.container import GenerativeAdversarial\n",
    "from neon.models.model import GAN, Model\n",
    "from neon.transforms import Rectlin, Logistic, GANCost, Tanh\n",
    "from neon.util.argparser import NeonArgparser\n",
    "from neon.util.persist import ensure_dirs_exist\n",
    "from neon.layers.layer import Dropout\n",
    "from neon.data.dataiterator import ArrayIterator\n",
    "from neon.optimizers import GradientDescentMomentum, RMSProp\n",
    "from neon.backends import gen_backend\n",
    "import numpy as np\n",
    "from sklearn.cross_validation import train_test_split"
   ]
  },
  {
   "cell_type": "code",
   "execution_count": 99,
   "metadata": {},
   "outputs": [],
   "source": [
    "X = arr.copy()\n",
    "y = np.ones(arr.shape[0])\n",
    "X[X < 1e-6] = 0"
   ]
  },
  {
   "cell_type": "code",
   "execution_count": 100,
   "metadata": {},
   "outputs": [],
   "source": [
    "mean = np.mean(X, axis=0, keepdims=True)"
   ]
  },
  {
   "cell_type": "code",
   "execution_count": 101,
   "metadata": {},
   "outputs": [],
   "source": [
    "X -= mean"
   ]
  },
  {
   "cell_type": "code",
   "execution_count": 115,
   "metadata": {},
   "outputs": [
    {
     "data": {
      "text/plain": [
       "<matplotlib.image.AxesImage at 0x19688aad0>"
      ]
     },
     "execution_count": 115,
     "metadata": {},
     "output_type": "execute_result"
    },
    {
     "data": {
      "image/png": "[encoded data removed]",
      "text/plain": [
       "<matplotlib.figure.Figure at 0x195b89650>"
      ]
     },
     "metadata": {},
     "output_type": "display_data"
    }
   ],
   "source": [
    "plt.imshow(arr[1].reshape((25, 25, 25))[:, 12, :])"
   ]
  },
  {
   "cell_type": "code",
   "execution_count": 103,
   "metadata": {},
   "outputs": [
    {
     "data": {
      "text/plain": [
       "[<matplotlib.lines.Line2D at 0x17d1f2f10>]"
      ]
     },
     "execution_count": 103,
     "metadata": {},
     "output_type": "execute_result"
    },
    {
     "data": {
      "image/png": "[encoded data removed]",
      "text/plain": [
       "<matplotlib.figure.Figure at 0x1787f0990>"
      ]
     },
     "metadata": {},
     "output_type": "display_data"
    }
   ],
   "source": [
    "plt.plot(X[20].reshape((25, 25, 25))[12, 12, :])"
   ]
  },
  {
   "cell_type": "code",
   "execution_count": 104,
   "metadata": {},
   "outputs": [
    {
     "name": "stdout",
     "output_type": "stream",
     "text": [
      "((90, 15625), 'X train shape')\n",
      "((90,), 'y train shape')\n"
     ]
    }
   ],
   "source": [
    "X_train, X_test, y_train, y_test = train_test_split(X, y, train_size=0.9, random_state=42)\n",
    "print(X_train.shape, 'X train shape')\n",
    "print(y_train.shape, 'y train shape')"
   ]
  },
  {
   "cell_type": "code",
   "execution_count": null,
   "metadata": {
    "collapsed": true
   },
   "outputs": [],
   "source": []
  },
  {
   "cell_type": "code",
   "execution_count": 106,
   "metadata": {
    "collapsed": true
   },
   "outputs": [],
   "source": [
    "gen_backend(backend='cpu', batch_size=10)\n",
    "train_set = ArrayIterator(X=X_train, y=y_train, nclass=2, lshape=(1, 25, 25, 25))\n",
    "valid_set = ArrayIterator(X=X_test, y=y_test, nclass=2)"
   ]
  },
  {
   "cell_type": "code",
   "execution_count": 108,
   "metadata": {},
   "outputs": [
    {
     "name": "stdout",
     "output_type": "stream",
     "text": [
      "Epoch 0   [Train |████████████████████|    9/9    batches, 1.39 cost, 129.11s]\n",
      "Epoch 1   [Train |████████████████████|    9/9    batches, 1.33 cost, 137.45s]\n",
      "Epoch 2   [Train |████████████████████|    9/9    batches, 1.32 cost, 130.24s]\n",
      "Epoch 3   [Train |████████████████████|    9/9    batches, 1.30 cost, 135.95s]\n"
     ]
    }
   ],
   "source": [
    "init = Gaussian(scale=0.01)\n",
    "\n",
    "# discriminiator using convolution layers\n",
    "lrelu = Rectlin(slope=0.1)  # leaky relu for discriminator\n",
    "# sigmoid = Logistic() # sigmoid activation function\n",
    "conv1 = dict(init=init, batch_norm=False, activation=lrelu, bias=init) # what's about BatchNorm Layer and batch_norm parameter?\n",
    "conv2 = dict(init=init, batch_norm=False, activation=lrelu, padding=2, bias=init)\n",
    "conv3 = dict(init=init, batch_norm=False, activation=Logistic(), padding=1, bias=init)\n",
    "D_layers = [\n",
    "            Conv((5, 5, 5, 32), **conv1),\n",
    "            Dropout(keep = 0.8),\n",
    "            Conv((5, 5, 5, 8), **conv2),\n",
    "            BatchNorm(),\n",
    "            Dropout(keep = 0.8),\n",
    "            Conv((5, 5, 5, 8), **conv2),\n",
    "            BatchNorm(),\n",
    "            Dropout(keep = 0.8),\n",
    "            Conv((5, 5, 5, 8), **conv3),\n",
    "            BatchNorm(),\n",
    "            Dropout(keep = 0.8),\n",
    "            Pooling((2, 2, 2)),\n",
    "            Affine(1, init=init, bias=init, activation=Logistic())\n",
    "            ]\n",
    "\n",
    "# generator using convolution layers\n",
    "init_gen = Gaussian(scale=0.01)\n",
    "relu = Rectlin(slope=0)  # relu for generator\n",
    "pad1 = dict(pad_h=2, pad_w=2, pad_d=2)\n",
    "str1 = dict(str_h=2, str_w=2, str_d=2)\n",
    "conv1 = dict(init=init_gen, batch_norm=False, activation=lrelu, padding=pad1, strides=str1, bias=init_gen)\n",
    "pad2 = dict(pad_h=2, pad_w=2, pad_d=2)\n",
    "str2 = dict(str_h=2, str_w=2, str_d=2)\n",
    "conv2 = dict(init=init_gen, batch_norm=False, activation=lrelu, padding=pad2, strides=str2, bias=init_gen)\n",
    "pad3 = dict(pad_h=0, pad_w=0, pad_d=0)\n",
    "str3 = dict(str_h=1, str_w=1, str_d=1)\n",
    "conv3 = dict(init=init_gen, batch_norm=False, activation=Tanh(), padding=pad3, strides=str3, bias=init_gen)\n",
    "G_layers = [\n",
    "            Affine(8 * 7 * 7 * 7, init=init_gen, bias=init_gen),\n",
    "            Reshape((8, 7, 7, 7)),\n",
    "            Deconv((6, 6, 6, 6), **conv1), #14x14x14\n",
    "            BatchNorm(),\n",
    "            Deconv((5, 5, 5, 6), **conv2), #27x27x27\n",
    "            BatchNorm(),\n",
    "            Conv((3, 3, 3, 1), **conv3)\n",
    "            ]\n",
    "\n",
    "layers = GenerativeAdversarial(generator=Sequential(G_layers, name=\"Generator\"),\n",
    "                               discriminator=Sequential(D_layers, name=\"Discriminator\"))\n",
    "\n",
    "# setup optimizer\n",
    "#optimizer = RMSProp(learning_rate=1e-5, decay_rate=0.9, epsilon=1e-8)\n",
    "optimizer = GradientDescentMomentum(learning_rate=1e-3, momentum_coef = 0.9)\n",
    "\n",
    "# setup cost function as Binary CrossEntropy\n",
    "cost = GeneralizedGANCost(costfunc=GANCost(func=\"modified\"))\n",
    "\n",
    "nb_epochs = 4 \n",
    "batch_size = 10\n",
    "latent_size = 50\n",
    "inb_classes = 2\n",
    "nb_test = 100\n",
    "\n",
    "# initialize model\n",
    "noise_dim = (latent_size)\n",
    "gan = GAN(layers=layers, noise_dim=noise_dim)\n",
    "\n",
    "# configure callbacks\n",
    "callbacks = Callbacks(gan, eval_set=valid_set)\n",
    "callbacks.add_callback(GANCostCallback())\n",
    "#callbacks.add_save_best_state_callback(\"./best_state.pkl\")\n",
    "\n",
    "# run fit\n",
    "gan.fit(train_set, num_epochs=nb_epochs, optimizer=optimizer,\n",
    "        cost=cost, callbacks=callbacks)"
   ]
  },
  {
   "cell_type": "code",
   "execution_count": 109,
   "metadata": {
    "collapsed": true
   },
   "outputs": [],
   "source": [
    "x_new = np.random.rand(100, latent_size)\n",
    "inference_set = ArrayIterator(x_new, None, nclass=2, lshape=(latent_size))\n",
    "my_generator = Model(gan.layers.generator)"
   ]
  },
  {
   "cell_type": "code",
   "execution_count": 112,
   "metadata": {
    "collapsed": true
   },
   "outputs": [],
   "source": [
    "test = my_generator.get_outputs(inference_set)\n",
    "test += mean\n",
    "\n",
    "test =  test.reshape((100, 25, 25, 25))"
   ]
  },
  {
   "cell_type": "code",
   "execution_count": 113,
   "metadata": {},
   "outputs": [
    {
     "data": {
      "text/plain": [
       "<matplotlib.image.AxesImage at 0x194e9bf10>"
      ]
     },
     "execution_count": 113,
     "metadata": {},
     "output_type": "execute_result"
    },
    {
     "data": {
      "image/png": "[encoded data removed]",
      "text/plain": [
       "<matplotlib.figure.Figure at 0x17e470310>"
      ]
     },
     "metadata": {},
     "output_type": "display_data"
    }
   ],
   "source": [
    "plt.imshow(test[0, :, 12, :])"
   ]
  },
  {
   "cell_type": "code",
   "execution_count": 138,
   "metadata": {},
   "outputs": [
    {
     "data": {
      "text/plain": [
       "<matplotlib.image.AxesImage at 0x19e2b2810>"
      ]
     },
     "execution_count": 138,
     "metadata": {},
     "output_type": "execute_result"
    },
    {
     "data": {
      "image/png": "[encoded data removed]",
      "text/plain": [
       "<matplotlib.figure.Figure at 0x19e129a50>"
      ]
     },
     "metadata": {},
     "output_type": "display_data"
    }
   ],
   "source": [
    "plt.imshow(test[25, :, 12, :])"
   ]
  },
  {
   "cell_type": "code",
   "execution_count": null,
   "metadata": {
    "collapsed": true
   },
   "outputs": [],
   "source": []
  }
 ],
 "metadata": {
  "kernelspec": {
   "display_name": "Python 2",
   "language": "python",
   "name": "python2"
  },
  "language_info": {
   "codemirror_mode": {
    "name": "ipython",
    "version": 2
   },
   "file_extension": ".py",
   "mimetype": "text/x-python",
   "name": "python",
   "nbconvert_exporter": "python",
   "pygments_lexer": "ipython2",
   "version": "2.7.13"
  }
 },
 "nbformat": 4,
 "nbformat_minor": 2
}
